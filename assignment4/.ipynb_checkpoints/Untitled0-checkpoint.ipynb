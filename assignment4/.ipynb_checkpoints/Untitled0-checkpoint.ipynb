{
 "metadata": {
  "name": "",
  "signature": "sha256:403f05f3d016eead766885e0f1e05aaa8adf0c82091f6fae5b5e9f68a9496145"
 },
 "nbformat": 3,
 "nbformat_minor": 0,
 "worksheets": []
}